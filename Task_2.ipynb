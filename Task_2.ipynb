{
  "nbformat": 4,
  "nbformat_minor": 0,
  "metadata": {
    "colab": {
      "name": "Task-2.ipynb",
      "private_outputs": true,
      "provenance": [],
      "collapsed_sections": []
    },
    "kernelspec": {
      "name": "python3",
      "display_name": "Python 3"
    },
    "language_info": {
      "name": "python"
    }
  },
  "cells": [
    {
      "cell_type": "markdown",
      "metadata": {
        "id": "uuuPG0nlxUWw"
      },
      "source": [
        "#GRIP-The Sparks Foundation\n",
        "#Data Science and Business Analytics Intern\n",
        "##Task 2: Exploratory Data Analysis - Sports\n",
        "Name : Deepak Kumar"
      ]
    },
    {
      "cell_type": "markdown",
      "metadata": {
        "id": "EytvqO2dxotR"
      },
      "source": [
        "AIM-As a sports analysts, find out the most successful teams, players and factors\n",
        "contributing win or loss of a team."
      ]
    },
    {
      "cell_type": "markdown",
      "metadata": {
        "id": "9Ry1CZ2fxv01"
      },
      "source": [
        "## Import Libraries "
      ]
    },
    {
      "cell_type": "code",
      "metadata": {
        "id": "ls0uXtdgnbj_"
      },
      "source": [
        "import pandas as pd\n",
        "import io\n",
        "import matplotlib.pyplot as plt\n",
        "import seaborn as sns\n",
        "from google.colab import files"
      ],
      "execution_count": null,
      "outputs": []
    },
    {
      "cell_type": "markdown",
      "metadata": {
        "id": "hqHyppgGx1sz"
      },
      "source": [
        "### Upload Files"
      ]
    },
    {
      "cell_type": "code",
      "metadata": {
        "id": "EiacGrO3np5c"
      },
      "source": [
        "uploaded = files.upload()"
      ],
      "execution_count": null,
      "outputs": []
    },
    {
      "cell_type": "code",
      "metadata": {
        "id": "Bu6fpr8rw8Ft"
      },
      "source": [
        "uploaded1 = files.upload()"
      ],
      "execution_count": null,
      "outputs": []
    },
    {
      "cell_type": "code",
      "metadata": {
        "id": "RVAP5iwIn5si"
      },
      "source": [
        "deliveries = pd.read_csv(io.BytesIO(uploaded['deliveries.csv']))\n",
        "matches = pd.read_csv(io.BytesIO(uploaded1['matches.csv']))"
      ],
      "execution_count": null,
      "outputs": []
    },
    {
      "cell_type": "code",
      "metadata": {
        "id": "G0p0pySuu22H"
      },
      "source": [
        "# Check Result\n",
        "deliveries.head()"
      ],
      "execution_count": null,
      "outputs": []
    },
    {
      "cell_type": "code",
      "metadata": {
        "id": "qZyqcfBLyBD8"
      },
      "source": [
        "# Check Shape\n",
        "print(\"Shape :\",deliveries.shape)"
      ],
      "execution_count": null,
      "outputs": []
    },
    {
      "cell_type": "code",
      "metadata": {
        "id": "wrR1TI_lyBPJ"
      },
      "source": [
        "deliveries.describe()\n",
        "#observe 75% and max value it shows huge diff"
      ],
      "execution_count": null,
      "outputs": []
    },
    {
      "cell_type": "code",
      "metadata": {
        "id": "jAUmC87gyBSU"
      },
      "source": [
        ""
      ],
      "execution_count": null,
      "outputs": []
    },
    {
      "cell_type": "markdown",
      "metadata": {
        "id": "Wie4xy90xNj_"
      },
      "source": [
        "#Data Cleaning and Preperation"
      ]
    },
    {
      "cell_type": "markdown",
      "metadata": {
        "id": "9qeIzEaO8Ibs"
      },
      "source": [
        "### Data Information"
      ]
    },
    {
      "cell_type": "code",
      "metadata": {
        "id": "l0VYJtY4wILX"
      },
      "source": [
        "print(deliveries.info())\n",
        "print(matches.info())"
      ],
      "execution_count": null,
      "outputs": []
    },
    {
      "cell_type": "code",
      "metadata": {
        "id": "vdIEtJBH8hzb"
      },
      "source": [
        ""
      ],
      "execution_count": null,
      "outputs": []
    },
    {
      "cell_type": "markdown",
      "metadata": {
        "id": "vuV6Ci8D8iXa"
      },
      "source": [
        "# Value Count of Each geature"
      ]
    },
    {
      "cell_type": "code",
      "metadata": {
        "id": "vbOYic6dzBby"
      },
      "source": [
        "#So there we can see only two types of varivariables"
      ],
      "execution_count": null,
      "outputs": []
    },
    {
      "cell_type": "code",
      "metadata": {
        "id": "rZh8ok010uKQ"
      },
      "source": [
        "# Value count of each geature\n",
        "def value_count(deliveries):\n",
        "    for var in deliveries.columns:\n",
        "        print(deliveries[var])\n",
        "        print(deliveries[var].value_counts())\n",
        "        print(\"------------------------------------------------\")\n",
        "\n",
        "value_count(deliveries)        "
      ],
      "execution_count": null,
      "outputs": []
    },
    {
      "cell_type": "code",
      "metadata": {
        "id": "74Y21aDM8xr-"
      },
      "source": [
        "# Value count of each geature\n",
        "def value_count(matches):\n",
        "    for var in matches.columns:\n",
        "        print(matches[var],\"\\n###############################################\")\n",
        "        print(matches[var].value_counts())\n",
        "        print(\"------------------------------------------------\")\n",
        "\n",
        "value_count(matches)        "
      ],
      "execution_count": null,
      "outputs": []
    },
    {
      "cell_type": "markdown",
      "metadata": {
        "id": "YO30T2YpzTBw"
      },
      "source": [
        "## Check null Values\n"
      ]
    },
    {
      "cell_type": "code",
      "metadata": {
        "id": "u5tq6OI6zL8x"
      },
      "source": [
        "matches.isnull().sum()"
      ],
      "execution_count": null,
      "outputs": []
    },
    {
      "cell_type": "code",
      "metadata": {
        "id": "VNO5WBjQza6X"
      },
      "source": [
        ""
      ],
      "execution_count": null,
      "outputs": []
    },
    {
      "cell_type": "code",
      "metadata": {
        "id": "_7CTJB7a0Aem"
      },
      "source": [
        "# Null Values Percentage"
      ],
      "execution_count": null,
      "outputs": []
    },
    {
      "cell_type": "code",
      "metadata": {
        "id": "sK0Re1IBzw28"
      },
      "source": [
        "print(matches.isnull().mean()*100)"
      ],
      "execution_count": null,
      "outputs": []
    },
    {
      "cell_type": "code",
      "metadata": {
        "id": "070-9SPQ0D75"
      },
      "source": [
        ""
      ],
      "execution_count": null,
      "outputs": []
    },
    {
      "cell_type": "code",
      "metadata": {
        "id": "0J58ezF-0Yq5"
      },
      "source": [
        "# visualize missing value using heatmap to get idea where is the value missing\n",
        " \n",
        "plt.figure(figsize=(16,9))\n",
        "sns.heatmap(matches.isnull())"
      ],
      "execution_count": null,
      "outputs": []
    },
    {
      "cell_type": "code",
      "metadata": {
        "id": "YXuryBoC_DKq"
      },
      "source": [
        "#Description of Data \n",
        "matches.describe()"
      ],
      "execution_count": null,
      "outputs": []
    },
    {
      "cell_type": "code",
      "metadata": {
        "id": "fUGCfGgU_DOG"
      },
      "source": [
        "# Matches we have got in the dataset \n",
        "matches['id'].max()"
      ],
      "execution_count": null,
      "outputs": []
    },
    {
      "cell_type": "code",
      "metadata": {
        "id": "AYg_kt4F_DSR"
      },
      "source": [
        "# Seasons we have got in the dataset\n",
        "matches['season'].unique()"
      ],
      "execution_count": null,
      "outputs": []
    },
    {
      "cell_type": "markdown",
      "metadata": {
        "id": "SWfnWQtF_buz"
      },
      "source": [
        "## Team won by Maximum Runs"
      ]
    },
    {
      "cell_type": "code",
      "metadata": {
        "id": "itiC04xy_DU5"
      },
      "source": [
        "matches.iloc[matches['win_by_runs'].idxmax()]"
      ],
      "execution_count": null,
      "outputs": []
    },
    {
      "cell_type": "code",
      "metadata": {
        "id": "kNe2i0WD_DZg"
      },
      "source": [
        "matches.iloc[matches['win_by_runs'].idxmax()]['winner']"
      ],
      "execution_count": null,
      "outputs": []
    },
    {
      "cell_type": "markdown",
      "metadata": {
        "id": "YwJi_tph_zf8"
      },
      "source": [
        "##Team won by Maximum Wickets"
      ]
    },
    {
      "cell_type": "code",
      "metadata": {
        "id": "mNEQwcAB_Dbi"
      },
      "source": [
        "matches.iloc[matches['win_by_wickets'].idxmax()]['winner']"
      ],
      "execution_count": null,
      "outputs": []
    },
    {
      "cell_type": "markdown",
      "metadata": {
        "id": "n4Ax-_pEABHB"
      },
      "source": [
        "##Team won by minimum runs"
      ]
    },
    {
      "cell_type": "code",
      "metadata": {
        "id": "x3IQ5Udp_Den"
      },
      "source": [
        "matches.iloc[matches[matches['win_by_runs'].ge(1)].win_by_runs.idxmin()]['winner']"
      ],
      "execution_count": null,
      "outputs": []
    },
    {
      "cell_type": "markdown",
      "metadata": {
        "id": "KSFQWcDgATRY"
      },
      "source": [
        "## Team won by Minimum Wickets1"
      ]
    },
    {
      "cell_type": "code",
      "metadata": {
        "id": "eG8sXvQb_Dio"
      },
      "source": [
        "matches.iloc[matches[matches['win_by_wickets'].ge(1)].win_by_wickets.idxmin()]"
      ],
      "execution_count": null,
      "outputs": []
    },
    {
      "cell_type": "code",
      "metadata": {
        "id": "CLeeSEZl6WbU"
      },
      "source": [
        "matches.iloc[matches[matches['win_by_wickets'].ge(1)].win_by_wickets.idxmin()]['winner']"
      ],
      "execution_count": null,
      "outputs": []
    },
    {
      "cell_type": "markdown",
      "metadata": {
        "id": "IZqU9xlnAs-r"
      },
      "source": [
        "#Observation :"
      ]
    },
    {
      "cell_type": "markdown",
      "metadata": {
        "id": "wJNThjsPAx6s"
      },
      "source": [
        "\n",
        "\n",
        "1.   Mumbai Indians is the team which won by maximum and minimum runs\n",
        "2.  Kolkata Knight Riders is the team which won by maximum and minimum wickets\n",
        "\n",
        "\n",
        "\n"
      ]
    },
    {
      "cell_type": "markdown",
      "metadata": {
        "id": "nHYa2QaWA6bW"
      },
      "source": [
        "#Season Which had most number of matches"
      ]
    },
    {
      "cell_type": "code",
      "metadata": {
        "id": "3yin4tE-ApF-"
      },
      "source": [
        "plt.figure(figsize=(12,6))\n",
        "sns.countplot(x='season', data=matches)\n",
        "plt.show()"
      ],
      "execution_count": null,
      "outputs": []
    },
    {
      "cell_type": "markdown",
      "metadata": {
        "id": "SInuQOgKBG50"
      },
      "source": [
        "\n",
        "In 2013, we have the most number of matches"
      ]
    },
    {
      "cell_type": "code",
      "metadata": {
        "id": "u8y7vXXgA-9U"
      },
      "source": [
        "plt.figure(figsize=(12,6))\n",
        "data = matches.winner.value_counts()\n",
        "sns.barplot(y = data.index, x = data, orient='h')\n",
        "plt.show()"
      ],
      "execution_count": null,
      "outputs": []
    },
    {
      "cell_type": "markdown",
      "metadata": {
        "id": "1pstz0gxBGF5"
      },
      "source": [
        "\n",
        "Mumbai Indians are the winners in most of the matches"
      ]
    },
    {
      "cell_type": "markdown",
      "metadata": {
        "id": "ErPwKvgnBdJp"
      },
      "source": [
        "#Top Player of the match winners"
      ]
    },
    {
      "cell_type": "code",
      "metadata": {
        "id": "BPj24x3MBVYV"
      },
      "source": [
        "top_players = matches.player_of_match.value_counts()[:10]\n",
        "#sns.barplot(x=\"day\", y=\"total_bill\", data=df)\n",
        "fig, ax = plt.subplots(figsize=(15,8))\n",
        "ax.set_ylim([0,20])\n",
        "ax.set_ylabel(\"Count\")\n",
        "ax.set_title(\"Top player of the match Winners\")\n",
        "top_players.plot.bar()\n",
        "sns.barplot(x = top_players.index, y = top_players, orient='v', palette=\"Blues\");\n",
        "plt.show()"
      ],
      "execution_count": null,
      "outputs": []
    },
    {
      "cell_type": "code",
      "metadata": {
        "id": "hUy9xggqBnQS"
      },
      "source": [
        ""
      ],
      "execution_count": null,
      "outputs": []
    },
    {
      "cell_type": "markdown",
      "metadata": {
        "id": "NOcBoc-QBrkU"
      },
      "source": [
        "\n",
        "CH Gayle is the most Successful player in all match winners"
      ]
    },
    {
      "cell_type": "code",
      "metadata": {
        "id": "xtJ0hIKcBsrp"
      },
      "source": [
        ""
      ],
      "execution_count": null,
      "outputs": []
    },
    {
      "cell_type": "code",
      "metadata": {
        "id": "V1BOMlpQBvKx"
      },
      "source": [
        ""
      ],
      "execution_count": null,
      "outputs": []
    },
    {
      "cell_type": "markdown",
      "metadata": {
        "id": "VUSiHmomBvcd"
      },
      "source": [
        "#Number of matches in each venue:"
      ]
    },
    {
      "cell_type": "code",
      "metadata": {
        "id": "WzkiUsiQBwmT"
      },
      "source": [
        "plt.figure(figsize=(12,6))\n",
        "sns.countplot(x='venue', data=matches)\n",
        "plt.xticks(rotation='vertical')\n",
        "plt.show()"
      ],
      "execution_count": null,
      "outputs": []
    },
    {
      "cell_type": "code",
      "metadata": {
        "id": "7ssyh6_1B0yU"
      },
      "source": [
        ""
      ],
      "execution_count": null,
      "outputs": []
    },
    {
      "cell_type": "markdown",
      "metadata": {
        "id": "LKarcyoOB3-h"
      },
      "source": [
        "\n",
        "There are quite a few venues present in the data with \"M Chinnaswamy Stadium\" being the one with most number of matches followed by \"Eden Gardens\""
      ]
    },
    {
      "cell_type": "code",
      "metadata": {
        "id": "bqbo-3AUB5Jf"
      },
      "source": [
        ""
      ],
      "execution_count": null,
      "outputs": []
    },
    {
      "cell_type": "markdown",
      "metadata": {
        "id": "A6MH0sy_B8Ia"
      },
      "source": [
        "# Number of matches played by each team:"
      ]
    },
    {
      "cell_type": "code",
      "metadata": {
        "id": "DbvkOr3MCDw4"
      },
      "source": [
        "temp_df = pd.melt(matches, id_vars=['id','season'], value_vars=['team1', 'team2'])\n",
        "\n",
        "plt.figure(figsize=(12,6))\n",
        "sns.countplot(x='value', data=temp_df)\n",
        "plt.xticks(rotation='vertical')\n",
        "plt.show()"
      ],
      "execution_count": null,
      "outputs": []
    },
    {
      "cell_type": "markdown",
      "metadata": {
        "id": "rX9BA7l7CNjM"
      },
      "source": [
        "\n",
        "\"Mumbai Indians\" lead the pack with most number of matches played followed by \"Royal Challengers Bangalore\". There are also teams with very few matches like 'Rising Pune Supergiants', 'Gujarat Lions' as they are new teams that came in only last season."
      ]
    },
    {
      "cell_type": "code",
      "metadata": {
        "id": "N1N70Un8CHJQ"
      },
      "source": [
        ""
      ],
      "execution_count": null,
      "outputs": []
    },
    {
      "cell_type": "markdown",
      "metadata": {
        "id": "xDuXUO7QCRiG"
      },
      "source": [
        "#Number of wins per team:"
      ]
    },
    {
      "cell_type": "code",
      "metadata": {
        "id": "YJx-9S3bCSnW"
      },
      "source": [
        "plt.figure(figsize=(12,6))\n",
        "sns.countplot(x='winner', data=matches)\n",
        "plt.xticks(rotation=90)\n",
        "plt.show()"
      ],
      "execution_count": null,
      "outputs": []
    },
    {
      "cell_type": "code",
      "metadata": {
        "id": "-wUsPEuICUpU"
      },
      "source": [
        ""
      ],
      "execution_count": null,
      "outputs": []
    },
    {
      "cell_type": "markdown",
      "metadata": {
        "id": "qOJ6tJBFCa6D"
      },
      "source": [
        "\n",
        "MI again leads the pack followed by CSK."
      ]
    },
    {
      "cell_type": "code",
      "metadata": {
        "id": "SrFzVVp_CaZC"
      },
      "source": [
        ""
      ],
      "execution_count": null,
      "outputs": []
    },
    {
      "cell_type": "markdown",
      "metadata": {
        "id": "FghJoA_mCeap"
      },
      "source": [
        "#Champions each season:\n",
        "\n",
        "Now let us see the champions in each season."
      ]
    },
    {
      "cell_type": "code",
      "metadata": {
        "id": "gCBWB1eaChIC"
      },
      "source": [
        "temp_df = matches.drop_duplicates(subset=['season'], keep='last')[['season', 'winner']].reset_index(drop=True)\n",
        "temp_df"
      ],
      "execution_count": null,
      "outputs": []
    },
    {
      "cell_type": "code",
      "metadata": {
        "id": "2W8vBuKXCmes"
      },
      "source": [
        ""
      ],
      "execution_count": null,
      "outputs": []
    },
    {
      "cell_type": "markdown",
      "metadata": {
        "id": "i6TG6gk_CxI3"
      },
      "source": [
        "#Toss decision:\n",
        "\n",
        "Let us see the toss decisions taken so far."
      ]
    },
    {
      "cell_type": "code",
      "metadata": {
        "id": "I_kFgoKnCyE6"
      },
      "source": [
        "import numpy as np\n",
        "temp_series = matches.toss_decision.value_counts()\n",
        "labels = (np.array(temp_series.index))\n",
        "sizes = (np.array((temp_series / temp_series.sum())*100))\n",
        "colors = ['gold', 'lightskyblue']\n",
        "plt.pie(sizes, labels=labels, colors=colors,\n",
        "        autopct='%1.1f%%', shadow=True, startangle=90)\n",
        "plt.title(\"Toss decision percentage\")\n",
        "plt.show()"
      ],
      "execution_count": null,
      "outputs": []
    },
    {
      "cell_type": "markdown",
      "metadata": {
        "id": "sx2ucjmuDAjU"
      },
      "source": [
        "\n",
        "Almost 61% of the toss decisions are made to field first. Now let us see how this decision varied over time."
      ]
    },
    {
      "cell_type": "code",
      "metadata": {
        "id": "kuwuag4-C2_u"
      },
      "source": [
        "plt.figure(figsize=(12,6))\n",
        "sns.countplot(x='season', hue='toss_decision', data=matches)\n",
        "plt.xticks(rotation='vertical')\n",
        "plt.show()"
      ],
      "execution_count": null,
      "outputs": []
    },
    {
      "cell_type": "code",
      "metadata": {
        "id": "fr7lH2nKDKxj"
      },
      "source": [
        ""
      ],
      "execution_count": null,
      "outputs": []
    },
    {
      "cell_type": "markdown",
      "metadata": {
        "id": "qbWrmU_VDO8y"
      },
      "source": [
        "\n",
        "It seems during the initial years, teams wanted to bat first. Voila.! Look at the 2018 and 2019 season, most of the toss decisions are to field first."
      ]
    },
    {
      "cell_type": "code",
      "metadata": {
        "id": "mzLO6KggDo46"
      },
      "source": [
        "# Since there is a very strong trend towards batting second let us see the win percentage of teams batting second.\n",
        "num_of_wins = (matches.win_by_wickets>0).sum()\n",
        "num_of_loss = (matches.win_by_wickets==0).sum()\n",
        "labels = [\"Wins\", \"Loss\"]\n",
        "total = float(num_of_wins + num_of_loss)\n",
        "sizes = [(num_of_wins/total)*100, (num_of_loss/total)*100]\n",
        "colors = ['gold', 'lightskyblue']\n",
        "plt.pie(sizes, labels=labels, colors=colors,\n",
        "        autopct='%1.1f%%', shadow=True, startangle=90)\n",
        "plt.title(\"Win percentage batting second\")\n",
        "plt.show()"
      ],
      "execution_count": null,
      "outputs": []
    },
    {
      "cell_type": "markdown",
      "metadata": {
        "id": "rNYhEPvXFA9O"
      },
      "source": [
        "\n",
        "So percentage of times teams batting second has won is 53.7. Now let us split this by year and see the distribution."
      ]
    },
    {
      "cell_type": "markdown",
      "metadata": {
        "id": "ZEeRr9xEFFu6"
      },
      "source": [
        "# Top Player of the match:"
      ]
    },
    {
      "cell_type": "code",
      "metadata": {
        "id": "tZiwDqCfE8LS"
      },
      "source": [
        "# create a function for labeling #\n",
        "def autolabel(rects):\n",
        "    for rect in rects:\n",
        "        height = rect.get_height()\n",
        "        ax.text(rect.get_x() + rect.get_width()/2., 1.02*height,\n",
        "                '%d' % int(height),\n",
        "                ha='center', va='bottom')"
      ],
      "execution_count": null,
      "outputs": []
    },
    {
      "cell_type": "code",
      "metadata": {
        "id": "u7Qr151SFV8i"
      },
      "source": [
        "temp_series = matches.player_of_match.value_counts()[:10]\n",
        "labels = np.array(temp_series.index)\n",
        "ind = np.arange(len(labels))\n",
        "width = 0.9\n",
        "fig, ax = plt.subplots(figsize=(15,8))\n",
        "rects = ax.bar(ind, np.array(temp_series), width=width)\n",
        "ax.set_xticks(ind+((width)/2.))\n",
        "ax.set_xticklabels(labels, rotation='vertical')\n",
        "ax.set_ylabel(\"Count\")\n",
        "ax.set_title(\"Top player of the match awardees\")\n",
        "autolabel(rects)\n",
        "plt.show()"
      ],
      "execution_count": null,
      "outputs": []
    },
    {
      "cell_type": "markdown",
      "metadata": {
        "id": "sr6FIS7iFwK2"
      },
      "source": [
        "\n",
        "CH Gayle is the top player of the match awardee in all the seasons of IPL."
      ]
    },
    {
      "cell_type": "markdown",
      "metadata": {
        "id": "jez_Ae70GVFx"
      },
      "source": [
        "# Top Umpires"
      ]
    },
    {
      "cell_type": "code",
      "metadata": {
        "id": "KjlTK6aLFbvw"
      },
      "source": [
        "temp_df = pd.melt(matches, id_vars=['id'], value_vars=['umpire1', 'umpire2'])\n",
        "\n",
        "temp_series = temp_df.value.value_counts()[:10]\n",
        "labels = np.array(temp_series.index)\n",
        "ind = np.arange(len(labels))\n",
        "width = 0.9\n",
        "fig, ax = plt.subplots(figsize=(15,8))\n",
        "rects = ax.bar(ind, np.array(temp_series), width=width,)\n",
        "ax.set_xticks(ind+((width)/2.))\n",
        "ax.set_xticklabels(labels, rotation='vertical')\n",
        "ax.set_ylabel(\"Count\")\n",
        "ax.set_ylabel(\"Count\")\n",
        "ax.set_title(\"Top Umpires\")\n",
        "autolabel(rects)\n",
        "plt.show()"
      ],
      "execution_count": null,
      "outputs": []
    },
    {
      "cell_type": "markdown",
      "metadata": {
        "id": "UfiRyL-qJr45"
      },
      "source": [
        "\n",
        "S Ravi seems to be the most sought after umpire for IPL matches followed by Ravi. Others are fairly close to each other.\n"
      ]
    },
    {
      "cell_type": "code",
      "metadata": {
        "id": "1EMCxiPFJMue"
      },
      "source": [
        ""
      ],
      "execution_count": null,
      "outputs": []
    },
    {
      "cell_type": "markdown",
      "metadata": {
        "id": "LaqgHRhnKh8w"
      },
      "source": [
        "# Score Data Set"
      ]
    },
    {
      "cell_type": "code",
      "metadata": {
        "id": "d-1krojHKk1j"
      },
      "source": [
        "deliveries.head()"
      ],
      "execution_count": null,
      "outputs": []
    },
    {
      "cell_type": "code",
      "metadata": {
        "id": "7qXV8QpDK6Mv"
      },
      "source": [
        ""
      ],
      "execution_count": null,
      "outputs": []
    },
    {
      "cell_type": "markdown",
      "metadata": {
        "id": "c1ZDnHYXMS26"
      },
      "source": [
        "#Batsman analysis:"
      ]
    },
    {
      "cell_type": "markdown",
      "metadata": {
        "id": "w92_UKqMMWB_"
      },
      "source": [
        "\n",
        "Let us start our analysis with batsman. Let us first see the ones with most number of IPL runs under their belt."
      ]
    },
    {
      "cell_type": "code",
      "metadata": {
        "id": "TSGofI0vMVBr"
      },
      "source": [
        "temp_df = deliveries.groupby('batsman')['batsman_runs'].agg('sum').reset_index().sort_values(by='batsman_runs', ascending=False).reset_index(drop=True)\n",
        "temp_df = temp_df.iloc[:10,:]\n",
        "\n",
        "labels = np.array(temp_df['batsman'])\n",
        "ind = np.arange(len(labels))\n",
        "width = 0.9\n",
        "fig, ax = plt.subplots(figsize=(15,8))\n",
        "rects = ax.bar(ind, np.array(temp_df['batsman_runs']), width=width, color='blue')\n",
        "ax.set_xticks(ind+((width)/2.))\n",
        "ax.set_xticklabels(labels, rotation='vertical')\n",
        "ax.set_ylabel(\"Count\")\n",
        "ax.set_title(\"Top run scorers in IPL\")\n",
        "ax.set_xlabel('Batsmane Name')\n",
        "autolabel(rects)\n",
        "plt.show()"
      ],
      "execution_count": null,
      "outputs": []
    },
    {
      "cell_type": "markdown",
      "metadata": {
        "id": "lKwoO9vZMnPJ"
      },
      "source": [
        "\n",
        "SK Raina is leading the chart followed closely by V Kohli. Da Warner is the top scorer among foreign players."
      ]
    },
    {
      "cell_type": "code",
      "metadata": {
        "id": "fuHnEk_PMhtL"
      },
      "source": [
        "# Now let us see the players with more number of boundaries in IPL.\n",
        "temp_df= deliveries.groupby('batsman')['batsman_runs'].agg(lambda x: (x==4).sum()).reset_index().sort_values(by='batsman_runs', ascending=False).reset_index(drop=True)\n",
        "temp_df = temp_df.iloc[:10,:]\n",
        "\n",
        "labels = np.array(temp_df['batsman'])\n",
        "ind = np.arange(len(labels))\n",
        "width = 0.9\n",
        "fig, ax = plt.subplots(figsize=(15,8))\n",
        "rects = ax.bar(ind, np.array(temp_df['batsman_runs']), width=width, color='lightskyblue')\n",
        "ax.set_xticks(ind+((width)/2.))\n",
        "ax.set_xticklabels(labels, rotation='vertical')\n",
        "ax.set_ylabel(\"Count\")\n",
        "ax.set_title(\"Batsman with most number of boundaries.!\",fontsize = 10)\n",
        "autolabel(rects)\n",
        "plt.show()"
      ],
      "execution_count": null,
      "outputs": []
    },
    {
      "cell_type": "markdown",
      "metadata": {
        "id": "b1XziKMNtgRv"
      },
      "source": [
        "\n",
        "S Dhawan is way ahead of others - almost 44 boundaries more than Kohli.\n"
      ]
    },
    {
      "cell_type": "code",
      "metadata": {
        "id": "fnrFsYcRMwzB"
      },
      "source": [
        "# Now let us check the number of 6's\n",
        "temp_df = deliveries.groupby('batsman')['batsman_runs'].agg(lambda x: (x==6).sum()).reset_index().sort_values(by='batsman_runs', ascending=False).reset_index(drop=True)\n",
        "temp_df = temp_df.iloc[:10,:]\n",
        "\n",
        "labels = np.array(temp_df['batsman'])\n",
        "ind = np.arange(len(labels))\n",
        "width = 0.9\n",
        "fig, ax = plt.subplots(figsize=(15,8))\n",
        "rects = ax.bar(ind, np.array(temp_df['batsman_runs']), width=width, color='m')\n",
        "ax.set_xticks(ind+((width)/2.))\n",
        "ax.set_xticklabels(labels, rotation=90)\n",
        "ax.set_ylabel(\"Count\")\n",
        "ax.set_title(\"Batsman with most number of sixes.!\")\n",
        "ax.set_xlabel('Batsmane Name')\n",
        "autolabel(rects)\n",
        "plt.show()"
      ],
      "execution_count": null,
      "outputs": []
    },
    {
      "cell_type": "markdown",
      "metadata": {
        "id": "wbfL1Ctxujsg"
      },
      "source": [
        "\n",
        "There you see the big man. Gayle, the unassailable leader in the number of sixes.\n"
      ]
    },
    {
      "cell_type": "code",
      "metadata": {
        "id": "Ti-Vkd94ueTh"
      },
      "source": [
        "# Now let us see the batsman who has played the most number of dot balls.\n",
        "temp_df = deliveries.groupby('batsman')['batsman_runs'].agg(lambda x: (x==0).sum()).reset_index().sort_values(by='batsman_runs', ascending=False).reset_index(drop=True)\n",
        "temp_df = temp_df.iloc[:10,:]\n",
        "\n",
        "labels = np.array(temp_df['batsman'])\n",
        "ind = np.arange(len(labels))\n",
        "width = 0.9\n",
        "fig, ax = plt.subplots(figsize=(15,8))\n",
        "rects = ax.bar(ind, np.array(temp_df['batsman_runs']), width=width, color='c')\n",
        "ax.set_xticks(ind+((width)/2.))\n",
        "ax.set_xticklabels(labels, rotation='vertical')\n",
        "ax.set_ylabel(\"Count\")\n",
        "ax.set_title(\"Batsman with most number of dot balls.!\")\n",
        "ax.set_xlabel('Batsmane Name')\n",
        "autolabel(rects)\n",
        "plt.show()"
      ],
      "execution_count": null,
      "outputs": []
    },
    {
      "cell_type": "code",
      "metadata": {
        "id": "N6QNAbSy01e7"
      },
      "source": [
        ""
      ],
      "execution_count": null,
      "outputs": []
    },
    {
      "cell_type": "markdown",
      "metadata": {
        "id": "cWFPgrXz048T"
      },
      "source": [
        "\n",
        "It is interesting to see that the same names repeat again here as well. I think since these guys have played more number of balls, they have more dot balls as well."
      ]
    },
    {
      "cell_type": "code",
      "metadata": {
        "id": "G3zxNBty1Uuy"
      },
      "source": [
        "# Let us check the percentage distribution now.\n",
        "def balls_faced(x):\n",
        "    return len(x)\n",
        "\n",
        "def dot_balls(x):\n",
        "    return (x==0).sum()\n",
        "\n",
        "temp_df = deliveries.groupby('batsman')['batsman_runs'].agg([balls_faced, dot_balls]).reset_index()\n",
        "temp_df = temp_df.loc[temp_df.balls_faced>200,:]\n",
        "temp_df['percentage_of_dot_balls'] = (temp_df['dot_balls'] / temp_df['balls_faced'])*100.\n",
        "temp_df = temp_df.sort_values(by='percentage_of_dot_balls', ascending=False).reset_index(drop=True)\n",
        "temp_df = temp_df.iloc[:10,:]\n",
        "\n",
        "fig, ax1 = plt.subplots(figsize=(15,8))\n",
        "ax2 = ax1.twinx()\n",
        "labels = np.array(temp_df['batsman'])\n",
        "ind = np.arange(len(labels))\n",
        "width = 0.9\n",
        "rects = ax1.bar(ind, np.array(temp_df['dot_balls']), width=width, color='brown')\n",
        "ax1.set_xticks(ind+((width)/2.))\n",
        "ax1.set_xticklabels(labels, rotation='vertical')\n",
        "ax1.set_ylabel(\"Count of dot balls\", color='brown')\n",
        "ax1.set_title(\"Batsman with highest percentage of dot balls (balls faced > 300)\")\n",
        "ax2.plot(ind+0.45, np.array(temp_df['percentage_of_dot_balls']), color='b', marker='o')\n",
        "ax2.set_ylabel(\"Percentage of dot balls\", color='b')\n",
        "ax2.set_ylim([0,100])\n",
        "ax2.grid(b=False)\n",
        "plt.show()"
      ],
      "execution_count": null,
      "outputs": []
    },
    {
      "cell_type": "markdown",
      "metadata": {
        "id": "_8xdxe-n1guO"
      },
      "source": [
        "\n",
        "Batsman with more than 300 balls faced in taken and the ones with higher percentage of dot balls are seen. It is interesting to see Ganguly with more than 1000 balls and nearly half of them are dot balls. It is surprising to see names like Jayasuriya and Gibbs in there.!"
      ]
    },
    {
      "cell_type": "markdown",
      "metadata": {
        "id": "_nZjgspy2beE"
      },
      "source": [
        "#Bowler Analysis\n",
        "Now let us see the bowlers who has bowled most number of balls in IPL.\n",
        "\n"
      ]
    },
    {
      "cell_type": "code",
      "metadata": {
        "id": "XewKZWrB1ZpN"
      },
      "source": [
        "temp_df = deliveries.groupby('bowler')['ball'].agg('count').reset_index().sort_values(by='ball', ascending=False).reset_index(drop=True)\n",
        "temp_df = temp_df.iloc[:10,:]\n",
        "\n",
        "labels = np.array(temp_df['bowler'])\n",
        "ind = np.arange(len(labels))\n",
        "width = 0.9\n",
        "fig, ax = plt.subplots(figsize=(15,8))\n",
        "rects = ax.bar(ind, np.array(temp_df['ball']), width=width, color='cyan')\n",
        "ax.set_xticks(ind+((width)/2.))\n",
        "ax.set_xticklabels(labels, rotation='vertical')\n",
        "ax.set_ylabel(\"Count\")\n",
        "ax.set_title(\"Top Bowlers - Number of balls bowled in IPL\")\n",
        "ax.set_xlabel('Bowler Names')\n",
        "autolabel(rects)\n",
        "plt.show()"
      ],
      "execution_count": null,
      "outputs": []
    },
    {
      "cell_type": "markdown",
      "metadata": {
        "id": "Ehltvqq_2p8B"
      },
      "source": [
        "\n",
        "Harbhajan Singh is the the bowler with most number of balls bowled in IPL matches. Now let us see the bowler with more number of dot balls."
      ]
    },
    {
      "cell_type": "code",
      "metadata": {
        "id": "TuKoSbmf2iik"
      },
      "source": [
        "temp_df = deliveries.groupby('bowler')['total_runs'].agg(lambda x: (x==0).sum()).reset_index().sort_values(by='total_runs', ascending=False).reset_index(drop=True)\n",
        "temp_df = temp_df.iloc[:10,:]\n",
        "\n",
        "labels = np.array(temp_df['bowler'])\n",
        "ind = np.arange(len(labels))\n",
        "width = 0.9\n",
        "fig, ax = plt.subplots(figsize=(15,8))\n",
        "rects = ax.bar(ind, np.array(temp_df['total_runs']), width=width, color='lightskyblue')\n",
        "ax.set_xticks(ind+((width)/2.))\n",
        "ax.set_xticklabels(labels, rotation='vertical')\n",
        "ax.set_ylabel(\"Count\")\n",
        "ax.set_title(\"Top Bowlers - Number of dot balls bowled in IPL\")\n",
        "ax.set_xlabel('Bowler Names')\n",
        "autolabel(rects)\n",
        "plt.show()"
      ],
      "execution_count": null,
      "outputs": []
    },
    {
      "cell_type": "markdown",
      "metadata": {
        "id": "574Y0Djj3Byz"
      },
      "source": [
        "Harbhajan singh is the one with more number of dot balls followed by Steyn and Malinga"
      ]
    },
    {
      "cell_type": "code",
      "metadata": {
        "id": "lBQaICNF20mz"
      },
      "source": [
        "# Now let us see the bowlers who has bowled more number of extras in IPL.\n",
        "temp_df = deliveries.groupby('bowler')['extra_runs'].agg(lambda x: (x>0).sum()).reset_index().sort_values(by='extra_runs', ascending=False).reset_index(drop=True)\n",
        "temp_df = temp_df.iloc[:10,:]\n",
        "\n",
        "labels = np.array(temp_df['bowler'])\n",
        "ind = np.arange(len(labels))\n",
        "width = 0.9\n",
        "fig, ax = plt.subplots(figsize=(15,8))\n",
        "rects = ax.bar(ind, np.array(temp_df['extra_runs']), width=width, color='magenta')\n",
        "ax.set_xticks(ind+((width)/2.))\n",
        "ax.set_xticklabels(labels, rotation='vertical')\n",
        "ax.set_ylabel(\"Count\")\n",
        "ax.set_title(\"Bowlers with more extras in IPL\")\n",
        "ax.set_xlabel('Bowler Names')\n",
        "autolabel(rects)\n",
        "plt.show()"
      ],
      "execution_count": null,
      "outputs": []
    },
    {
      "cell_type": "markdown",
      "metadata": {
        "id": "tdMwAy3_7Pi6"
      },
      "source": [
        "\n",
        "Malinga tops the chart with 221 extra runs followed by Pravin Kumar."
      ]
    },
    {
      "cell_type": "code",
      "metadata": {
        "id": "DZA3QNeZ3gjr"
      },
      "source": [
        ""
      ],
      "execution_count": null,
      "outputs": []
    },
    {
      "cell_type": "code",
      "metadata": {
        "id": "fug7SWlV3Wsp"
      },
      "source": [
        "# Now let us see most common dismissal types in IPL.\n",
        "plt.figure(figsize=(12,6))\n",
        "sns.countplot(x='dismissal_kind', data=deliveries)\n",
        "plt.xticks(rotation='vertical')\n",
        "plt.show()\n"
      ],
      "execution_count": null,
      "outputs": []
    },
    {
      "cell_type": "markdown",
      "metadata": {
        "id": "xITMb_MV7d1k"
      },
      "source": [
        "\n",
        "Caught is the most common dismissal type in IPL followed by Bowled. There are very few instances of hit wicket as well. 'Obstructing the field' is one of the dismissal type as well in IPL.!"
      ]
    },
    {
      "cell_type": "code",
      "metadata": {
        "id": "CXP2rIJj7Z4b"
      },
      "source": [
        ""
      ],
      "execution_count": null,
      "outputs": []
    }
  ]
}