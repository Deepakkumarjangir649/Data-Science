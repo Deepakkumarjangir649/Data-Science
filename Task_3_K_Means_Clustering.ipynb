{
  "nbformat": 4,
  "nbformat_minor": 0,
  "metadata": {
    "colab": {
      "name": "Task 3_K-Means Clustering.ipynb",
      "private_outputs": true,
      "provenance": []
    },
    "kernelspec": {
      "name": "python3",
      "display_name": "Python 3"
    },
    "language_info": {
      "name": "python"
    }
  },
  "cells": [
    {
      "cell_type": "markdown",
      "metadata": {
        "id": "1M7pDxHnriEe"
      },
      "source": [
        "#THE SPARKS FOUNDATION\n",
        "##DATA SCIENCE & BUSINESS ANALYTICS\n",
        "##Author:DEEAPK KUMAR\n",
        "##Task 3:Prediction using Unsupervised ML"
      ]
    },
    {
      "cell_type": "markdown",
      "metadata": {
        "id": "Yy2ZRsrKr0Il"
      },
      "source": [
        "#K- Means Clustering\n",
        "\n",
        "Importing libraries"
      ]
    },
    {
      "cell_type": "code",
      "metadata": {
        "id": "zwQgq4ujrcoc"
      },
      "source": [
        "import numpy as np\n",
        "import pandas as pd\n",
        "import seaborn as sns\n",
        "import matplotlib.pyplot as plt\n",
        "from sklearn import datasets\n",
        "from sklearn.cluster import KMeans"
      ],
      "execution_count": null,
      "outputs": []
    },
    {
      "cell_type": "markdown",
      "metadata": {
        "id": "HQWDzMyXr-3b"
      },
      "source": [
        "## Importing the Dataset"
      ]
    },
    {
      "cell_type": "code",
      "metadata": {
        "id": "7Ps-T7Wkrcrd"
      },
      "source": [
        "ir = sns.load_dataset('iris')\n",
        "ir.shape"
      ],
      "execution_count": null,
      "outputs": []
    },
    {
      "cell_type": "markdown",
      "metadata": {
        "id": "wqt2H_HtsS1B"
      },
      "source": [
        "\n",
        "Data_Points and Features"
      ]
    },
    {
      "cell_type": "code",
      "metadata": {
        "id": "lNPc6isVrcul"
      },
      "source": [
        "ir.info()"
      ],
      "execution_count": null,
      "outputs": []
    },
    {
      "cell_type": "code",
      "metadata": {
        "id": "HhAomlfesYel"
      },
      "source": [
        "ir.head()"
      ],
      "execution_count": null,
      "outputs": []
    },
    {
      "cell_type": "code",
      "metadata": {
        "id": "TSTaL6rfsbA2"
      },
      "source": [
        "ir.tail()"
      ],
      "execution_count": null,
      "outputs": []
    },
    {
      "cell_type": "markdown",
      "metadata": {
        "id": "pS3Nj4Tlsd-G"
      },
      "source": [
        "\n",
        "Columns name"
      ]
    },
    {
      "cell_type": "code",
      "metadata": {
        "id": "UkROxSO-sc3n"
      },
      "source": [
        "ir.columns"
      ],
      "execution_count": null,
      "outputs": []
    },
    {
      "cell_type": "markdown",
      "metadata": {
        "id": "OQlYQ8uhske9"
      },
      "source": [
        "\n",
        "Data points for each class & Flowers for each species\n",
        "\n"
      ]
    },
    {
      "cell_type": "code",
      "metadata": {
        "id": "vLb-1ja8sgpc"
      },
      "source": [
        "ir['species'].value_counts()"
      ],
      "execution_count": null,
      "outputs": []
    },
    {
      "cell_type": "markdown",
      "metadata": {
        "id": "PjASVXYGs1hJ"
      },
      "source": [
        "#Visualization\n",
        "##Pair-plot\n",
        "pair-plot:Pair-wise scatter plot"
      ]
    },
    {
      "cell_type": "code",
      "metadata": {
        "id": "H-AFr7kTsq1Z"
      },
      "source": [
        "import warnings\n",
        "warnings.simplefilter(action='ignore', category=FutureWarning)\n",
        "warnings.filterwarnings('ignore')\n",
        "\n",
        "plt.close()\n",
        "sns.set_style(\"ticks\")\n",
        "sns.pairplot(ir, hue=\"species\", size=2.5)\n",
        "plt.show()"
      ],
      "execution_count": null,
      "outputs": []
    },
    {
      "cell_type": "code",
      "metadata": {
        "id": "Yz1b_Zs0s7CX"
      },
      "source": [
        "sns.FacetGrid(ir, hue=\"species\", size=5) \\\n",
        "   .map(sns.distplot, \"petal_length\") \\\n",
        "   .add_legend()\n",
        "plt.show()\n"
      ],
      "execution_count": null,
      "outputs": []
    },
    {
      "cell_type": "code",
      "metadata": {
        "id": "3WW7wzbRtFxQ"
      },
      "source": [
        "sns.FacetGrid(ir, hue=\"species\", size=5) \\\n",
        "   .map(sns.distplot, \"petal_width\") \\\n",
        "   .add_legend()\n",
        "plt.show()"
      ],
      "execution_count": null,
      "outputs": []
    },
    {
      "cell_type": "code",
      "metadata": {
        "id": "A0W3ZRtwtNCr"
      },
      "source": [
        "sns.FacetGrid(ir, hue=\"species\", size=4.5) \\\n",
        "   .map(sns.distplot, \"sepal_length\") \\\n",
        "   .add_legend()\n",
        "plt.show()"
      ],
      "execution_count": null,
      "outputs": []
    },
    {
      "cell_type": "code",
      "metadata": {
        "id": "1-9xSxQ-tTLV"
      },
      "source": [
        "sns.FacetGrid(ir, hue=\"species\", size=4.5) \\\n",
        "   .map(sns.distplot, \"sepal_width\") \\\n",
        "   .add_legend()\n",
        "plt.show()"
      ],
      "execution_count": null,
      "outputs": []
    },
    {
      "cell_type": "code",
      "metadata": {
        "id": "ozqp5JRgtX-K"
      },
      "source": [
        "sns.FacetGrid(ir, hue=\"species\", size=5) \\\n",
        "   .map(plt.scatter, \"petal_length\", \"petal_width\") \\\n",
        "   .add_legend()\n",
        "plt.show()"
      ],
      "execution_count": null,
      "outputs": []
    },
    {
      "cell_type": "code",
      "metadata": {
        "id": "vbBO0KKCtfZr"
      },
      "source": [
        "sns.FacetGrid(ir, hue=\"species\", size=5) \\\n",
        "   .map(plt.scatter, \"sepal_length\", \"sepal_width\") \\\n",
        "   .add_legend()\n",
        "plt.show()"
      ],
      "execution_count": null,
      "outputs": []
    },
    {
      "cell_type": "markdown",
      "metadata": {
        "id": "JR1xr53StpYl"
      },
      "source": [
        "# Voilin Plot"
      ]
    },
    {
      "cell_type": "code",
      "metadata": {
        "id": "T12pai8ftno7"
      },
      "source": [
        "plt.figure(figsize=(12,12))\n",
        "plt.subplot(2,2,1)\n",
        "sns.violinplot(x = \"species\", y = \"petal_length\", data = ir)\n",
        "plt.subplot(2,2,2)\n",
        "sns.violinplot(x = \"species\", y = \"petal_width\", data = ir)\n",
        "plt.subplot(2,2,3)\n",
        "sns.violinplot(x = \"species\", y = \"sepal_length\", data = ir)\n",
        "plt.subplot(2,2,4)\n",
        "sns.violinplot(x = \"species\", y = \"sepal_width\", data = ir)"
      ],
      "execution_count": null,
      "outputs": []
    },
    {
      "cell_type": "markdown",
      "metadata": {
        "id": "yPCw0_hwuALw"
      },
      "source": [
        "#KMeams_Clustering\n",
        "Finding the optimum number of clusters for KMeans classification\n",
        "\n",
        "Plotting the results on a line graph & allowing us to observe The elbow"
      ]
    },
    {
      "cell_type": "code",
      "metadata": {
        "id": "mPLUv9WXuwKA"
      },
      "source": [
        "x = ir.iloc[:, [0, 1, 2, 3]].values\n",
        "wcss = []\n",
        "\n",
        "for i in range(1, 9):\n",
        "    kmeans = KMeans(n_clusters = i, init = \"k-means++\",\n",
        "                   max_iter = 300, n_init = 8, random_state = 500)\n",
        "    kmeans.fit(x)\n",
        "    wcss.append(kmeans.inertia_)"
      ],
      "execution_count": null,
      "outputs": []
    },
    {
      "cell_type": "code",
      "metadata": {
        "id": "HtdOFvnRt5_S"
      },
      "source": [
        "\n",
        "plt.plot(range(1,9), wcss, marker = \"*\")\n",
        "plt.title(\"The elbow method\")\n",
        "plt.xlabel(\"Number of clusters\")\n",
        "plt.ylabel(\"WCSS\")\n",
        "plt.show()"
      ],
      "execution_count": null,
      "outputs": []
    },
    {
      "cell_type": "markdown",
      "metadata": {
        "id": "va_neyf4vD4e"
      },
      "source": [
        "\n",
        "Applying kmeans to the dataset / Creating the kmeans classifier\n",
        "\n"
      ]
    },
    {
      "cell_type": "code",
      "metadata": {
        "id": "UNf2mkk5uEvT"
      },
      "source": [
        "kmeans = KMeans(n_clusters = 3, init = \"k-means++\",\n",
        "               max_iter = 300, n_init = 8, random_state = 0)\n",
        "y_kmeans = kmeans.fit_predict(x)"
      ],
      "execution_count": null,
      "outputs": []
    },
    {
      "cell_type": "markdown",
      "metadata": {
        "id": "Ld1x3Jb5vKO0"
      },
      "source": [
        "\n",
        "Visualising the clusters - On the first two columns\n",
        "\n"
      ]
    },
    {
      "cell_type": "code",
      "metadata": {
        "id": "iaHWpQgxvIAm"
      },
      "source": [
        "plt.scatter(x[y_kmeans == 0, 0], x[y_kmeans == 0, 1],\n",
        "           s = 100, c = \"black\", label = \"Iris-Setosa\")\n",
        "plt.scatter(x[y_kmeans == 1, 0], x[y_kmeans == 1, 1],\n",
        "           s = 100, c = \"blue\", label = \"Iris-versicolour\")\n",
        "plt.scatter(x[y_kmeans == 2, 0], x[y_kmeans == 2, 1],\n",
        "           s = 100, c = \"green\", label = \"Iris-virginica\")\n",
        "plt.grid(True)\n",
        "\n",
        "##Plotting the centroids of the clusters\n",
        "plt.scatter(kmeans.cluster_centers_[:, 0], kmeans.cluster_centers_[:,1], \n",
        "            s = 100, c = 'yellow', label = 'Centroids')\n",
        "\n",
        "plt.legend()"
      ],
      "execution_count": null,
      "outputs": []
    },
    {
      "cell_type": "markdown",
      "metadata": {
        "id": "whELxvfTvTr2"
      },
      "source": [
        "### Thank You!"
      ]
    },
    {
      "cell_type": "code",
      "metadata": {
        "id": "MtJsIVnZvbEL"
      },
      "source": [
        ""
      ],
      "execution_count": null,
      "outputs": []
    }
  ]
}