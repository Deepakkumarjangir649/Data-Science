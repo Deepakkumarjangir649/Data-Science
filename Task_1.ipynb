{
  "nbformat": 4,
  "nbformat_minor": 0,
  "metadata": {
    "colab": {
      "name": "Task 1.ipynb",
      "private_outputs": true,
      "provenance": [],
      "collapsed_sections": [
        "oZ_s3_5GH-Rm",
        "JrYouj7IIrDW",
        "gmSmJJNVI2Ap",
        "4ePp7G-GMco7",
        "2_-j8I1JKB6B",
        "hdKzrIASKq7T"
      ]
    },
    "kernelspec": {
      "name": "python3",
      "display_name": "Python 3"
    },
    "language_info": {
      "name": "python"
    }
  },
  "cells": [
    {
      "cell_type": "markdown",
      "metadata": {
        "id": "hPYFpDDyHXLL"
      },
      "source": [
        "# GRIP-The Sparks Foundation\n",
        "\n",
        "## Data Science and Business Analytics Intern\n",
        "\n",
        "# Task 1:Prediction using Supervised Machine Learning\n",
        "\n",
        "### Name : Deepak Kumar"
      ]
    },
    {
      "cell_type": "markdown",
      "metadata": {
        "id": "oZ_s3_5GH-Rm"
      },
      "source": [
        "## AIM-In this task it  is required to predict  the percentage of an student basrd on the no. of \n",
        "## study hours "
      ]
    },
    {
      "cell_type": "markdown",
      "metadata": {
        "id": "bZ6EqlKoIZ4T"
      },
      "source": [
        "# Import Libraries"
      ]
    },
    {
      "cell_type": "code",
      "metadata": {
        "id": "VhPAfe7fSAzf"
      },
      "source": [
        "# Importing all libraries required in this notebook\n",
        "import pandas as pd\n",
        "import numpy as np  \n",
        "import matplotlib.pyplot as plt  \n",
        "%matplotlib inline\n",
        "import seaborn as sns"
      ],
      "execution_count": null,
      "outputs": []
    },
    {
      "cell_type": "markdown",
      "metadata": {
        "id": "JrYouj7IIrDW"
      },
      "source": [
        "# Load Path"
      ]
    },
    {
      "cell_type": "code",
      "metadata": {
        "id": "kTqDHg_CDaFj"
      },
      "source": [
        "Path = \"https://raw.githubusercontent.com/AdiPersonalWorks/Random/master/student_scores%20-%20student_scores.csv\""
      ],
      "execution_count": null,
      "outputs": []
    },
    {
      "cell_type": "code",
      "metadata": {
        "id": "-yNMYH98DaJH"
      },
      "source": [
        "score = pd.read_csv(Path)"
      ],
      "execution_count": null,
      "outputs": []
    },
    {
      "cell_type": "code",
      "metadata": {
        "id": "RjRVGISADm7B"
      },
      "source": [
        "score.head()"
      ],
      "execution_count": null,
      "outputs": []
    },
    {
      "cell_type": "markdown",
      "metadata": {
        "id": "gmSmJJNVI2Ap"
      },
      "source": [
        "# Data Cleaning and Preperation"
      ]
    },
    {
      "cell_type": "code",
      "metadata": {
        "id": "PJFgFgeRDq_d"
      },
      "source": [
        "score.head(5)"
      ],
      "execution_count": null,
      "outputs": []
    },
    {
      "cell_type": "code",
      "metadata": {
        "id": "UGfThi_fI9P5"
      },
      "source": [
        "score.dtypes"
      ],
      "execution_count": null,
      "outputs": []
    },
    {
      "cell_type": "markdown",
      "metadata": {
        "id": "ouNFyPCYJOiL"
      },
      "source": [
        "So there we can see only two types of varivariables "
      ]
    },
    {
      "cell_type": "code",
      "metadata": {
        "id": "JT-TgYrBJDWN"
      },
      "source": [
        "score.isnull().sum()"
      ],
      "execution_count": null,
      "outputs": []
    },
    {
      "cell_type": "markdown",
      "metadata": {
        "id": "7YSFcMNsJtAz"
      },
      "source": [
        "\n",
        "\n",
        "```\n",
        "# This is formatted as code\n",
        "```\n",
        "\n",
        "we can see that there is no null value in the data"
      ]
    },
    {
      "cell_type": "markdown",
      "metadata": {
        "id": "4ePp7G-GMco7"
      },
      "source": [
        "## Descriptive Statistics of the Dataset"
      ]
    },
    {
      "cell_type": "code",
      "metadata": {
        "id": "ZwcqrBJOJqAr"
      },
      "source": [
        "score.describe()"
      ],
      "execution_count": null,
      "outputs": []
    },
    {
      "cell_type": "markdown",
      "metadata": {
        "id": "2_-j8I1JKB6B"
      },
      "source": [
        "#Boxplot to Check for  Outliers  in the Dataset"
      ]
    },
    {
      "cell_type": "code",
      "metadata": {
        "id": "K8SSRDI9J81f"
      },
      "source": [
        "score['Scores'].plot.box()"
      ],
      "execution_count": null,
      "outputs": []
    },
    {
      "cell_type": "code",
      "metadata": {
        "id": "iIA2l7KzKevs"
      },
      "source": [
        "score['Hours'].plot.box()"
      ],
      "execution_count": null,
      "outputs": []
    },
    {
      "cell_type": "markdown",
      "metadata": {
        "id": "hdKzrIASKq7T"
      },
      "source": [
        "# Visualization"
      ]
    },
    {
      "cell_type": "code",
      "metadata": {
        "id": "UAeQeAiNKnOY"
      },
      "source": [
        "sns.distplot(score,hist=False)"
      ],
      "execution_count": null,
      "outputs": []
    },
    {
      "cell_type": "markdown",
      "metadata": {
        "id": "N5RZDa2kNI7V"
      },
      "source": [
        "# 2-D Graph"
      ]
    },
    {
      "cell_type": "code",
      "metadata": {
        "id": "1sR1YrIMNGa4"
      },
      "source": [
        "score.plot(x='Hours',y='Scores',style ='*',color = 'green')\n",
        "plt.title(\"Hours Vs Percentage\",size = 20)\n",
        "plt.xlabel(\"Hours Studied\",size =14)\n",
        "plt.ylabel(\"Percentage Scores \",size = 14)\n",
        "plt.grid(True)\n",
        "plt.show()"
      ],
      "execution_count": null,
      "outputs": []
    },
    {
      "cell_type": "markdown",
      "metadata": {
        "id": "3EjwrafUOomz"
      },
      "source": [
        "## Preparing the data"
      ]
    },
    {
      "cell_type": "markdown",
      "metadata": {
        "id": "TxJYyQRBOx78"
      },
      "source": [
        "#### Divide the dataset"
      ]
    },
    {
      "cell_type": "code",
      "metadata": {
        "id": "2LdZSPfvN7ja"
      },
      "source": [
        "X = score.iloc[:,:-1].values\n",
        "y = score.iloc[:,1].values"
      ],
      "execution_count": null,
      "outputs": []
    },
    {
      "cell_type": "code",
      "metadata": {
        "id": "U5YmrckxPWsX"
      },
      "source": [
        "from sklearn.model_selection import train_test_split\n",
        "X_train, X_test, y_train, y_test = train_test_split(X, y, \n",
        "                            test_size=0.2, random_state=0) "
      ],
      "execution_count": null,
      "outputs": []
    },
    {
      "cell_type": "markdown",
      "metadata": {
        "id": "r5u8y2mgPtA8"
      },
      "source": [
        "### Train set of X and y"
      ]
    },
    {
      "cell_type": "code",
      "metadata": {
        "id": "scqrddR1Pjcr"
      },
      "source": [
        "print(\"Shape of X_train :\",X_train.shape)\n",
        "print(\"Shape of y_train :\",y_train.shape)"
      ],
      "execution_count": null,
      "outputs": []
    },
    {
      "cell_type": "markdown",
      "metadata": {
        "id": "qmVnisuEQKc-"
      },
      "source": [
        "### Test set of x and y"
      ]
    },
    {
      "cell_type": "code",
      "metadata": {
        "id": "HSQmT7QXP_wR"
      },
      "source": [
        "print(\"Shape of X_test :\",X_test.shape)\n",
        "print(\"Shape of y_test :\",y_test.shape)"
      ],
      "execution_count": null,
      "outputs": []
    },
    {
      "cell_type": "markdown",
      "metadata": {
        "id": "qRkjGX5BQd4o"
      },
      "source": [
        "# Training the Algorithms"
      ]
    },
    {
      "cell_type": "markdown",
      "metadata": {
        "id": "VdrEyh0hQm62"
      },
      "source": [
        "We have split our data into training and testing sets, and now is finally the time to train our algorithm.\n"
      ]
    },
    {
      "cell_type": "code",
      "metadata": {
        "id": "oP1eOb3ZQZVz"
      },
      "source": [
        "from sklearn.linear_model import LinearRegression  \n",
        "regressor = LinearRegression()  \n",
        "regressor.fit(X_train, y_train) \n",
        "\n",
        "print(\"Training complete.\")"
      ],
      "execution_count": null,
      "outputs": []
    },
    {
      "cell_type": "code",
      "metadata": {
        "id": "zvTT0UKOQw9p"
      },
      "source": [
        "# Plotting the regression line\n",
        "line = regressor.coef_*X+regressor.intercept_\n",
        "\n",
        "# Plotting for the test data\n",
        "plt.scatter(X, y)\n",
        "plt.plot(X, line);\n",
        "plt.show()"
      ],
      "execution_count": null,
      "outputs": []
    },
    {
      "cell_type": "markdown",
      "metadata": {
        "id": "KqQbAB17Q979"
      },
      "source": [
        "#Making Predictions\n",
        "Now that we have trained our algorithm, it's time to make some predictions."
      ]
    },
    {
      "cell_type": "code",
      "metadata": {
        "id": "LBQta2gXQ285"
      },
      "source": [
        "print(X_test) # Testing data - In Hours\n",
        "y_pred = regressor.predict(X_test) # Predicting the scores"
      ],
      "execution_count": null,
      "outputs": []
    },
    {
      "cell_type": "markdown",
      "metadata": {
        "id": "OuiKdcYbRptk"
      },
      "source": [
        "## Plotting the regression line(y=mx+b)"
      ]
    },
    {
      "cell_type": "code",
      "metadata": {
        "id": "Js1Ku7EgRgIq"
      },
      "source": [
        "plt.scatter(X_train,y_train,color = 'green')\n",
        "plt.plot(X_train,regressor.predict(X_train),color = 'red')\n",
        "plt.title('Hours Vs Scores (Training Set)',size = 20)\n",
        "plt.xlabel('Hours',size =14)\n",
        "plt.ylabel('Scores',size = 14)\n",
        "plt.grid(True)\n",
        "plt.show()"
      ],
      "execution_count": null,
      "outputs": []
    },
    {
      "cell_type": "code",
      "metadata": {
        "id": "HVb9iT4YRgL8"
      },
      "source": [
        ""
      ],
      "execution_count": null,
      "outputs": []
    },
    {
      "cell_type": "markdown",
      "metadata": {
        "id": "PqrFmjASRNmm"
      },
      "source": [
        "Comparing Actual vs Predicted"
      ]
    },
    {
      "cell_type": "code",
      "metadata": {
        "id": "q_BYPrfQRGWj"
      },
      "source": [
        "# Comparing Actual vs Predicted\n",
        "df = pd.DataFrame({'Actual': y_test, 'Predicted': y_pred})  \n",
        "df "
      ],
      "execution_count": null,
      "outputs": []
    },
    {
      "cell_type": "markdown",
      "metadata": {
        "id": "Hj6K3m6HTKmk"
      },
      "source": [
        "# Graphical Representation of Original Values and Predicted Values "
      ]
    },
    {
      "cell_type": "code",
      "metadata": {
        "id": "Mh-baTuHRMSV"
      },
      "source": [
        "df.plot(kind='bar',color = [\"green\",'blue'])\n",
        "plt.grid(True)"
      ],
      "execution_count": null,
      "outputs": []
    },
    {
      "cell_type": "markdown",
      "metadata": {
        "id": "iXz3JtC8T6FC"
      },
      "source": [
        "## Predict the Scores of student who studied for 9.25 hours per day"
      ]
    },
    {
      "cell_type": "code",
      "metadata": {
        "id": "HJEpse-aT1ie"
      },
      "source": [
        "# You can also test with your own data\n",
        "hours = 9.25\n",
        "own_pred = regressor.predict([[hours]])\n",
        "print(\"No of Hours = {}\".format(hours))\n",
        "print(\"Predicted Score = {}\".format(own_pred[0]))"
      ],
      "execution_count": null,
      "outputs": []
    },
    {
      "cell_type": "markdown",
      "metadata": {
        "id": "8QgIfKztUju5"
      },
      "source": [
        "\n",
        "Predict Score is 93.69%. According Linear Regression model the students who studied 9.25 hours per day."
      ]
    },
    {
      "cell_type": "markdown",
      "metadata": {
        "id": "-nF5QgN2VHaU"
      },
      "source": [
        "# Model Evaluation"
      ]
    },
    {
      "cell_type": "markdown",
      "metadata": {
        "id": "qftaq7BcVRWN"
      },
      "source": [
        "\n",
        "The final step is to evaluate the performance of algorithm. This step is particularly important to compare how well different algorithms perform on a particular dataset. For simplicity here, we have chosen the mean square error. There are many such metrics."
      ]
    },
    {
      "cell_type": "code",
      "metadata": {
        "id": "2MElh7ZuUN5p"
      },
      "source": [
        "from sklearn import metrics  \n",
        "print('Mean Absolute Error:', \n",
        "      metrics.mean_absolute_error(y_test, y_pred)) "
      ],
      "execution_count": null,
      "outputs": []
    },
    {
      "cell_type": "code",
      "metadata": {
        "id": "hpVotN_1VWJr"
      },
      "source": [
        ""
      ],
      "execution_count": null,
      "outputs": []
    }
  ]
}